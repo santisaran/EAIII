{
 "cells": [
  {
   "cell_type": "code",
   "execution_count": 9,
   "metadata": {
    "collapsed": false
   },
   "outputs": [],
   "source": [
    "import ahkab\n",
    "import numpy as np\n",
    "import scipy as sp\n",
    "import matplotlib \n",
    "from matplotlib import pylab as plt\n",
    "import sympy\n",
    "%matplotlib inline"
   ]
  },
  {
   "cell_type": "code",
   "execution_count": 10,
   "metadata": {
    "collapsed": true
   },
   "outputs": [],
   "source": [
    "def dB20(x):\n",
    "    return 20*np.log10(x)\n"
   ]
  },
  {
   "cell_type": "code",
   "execution_count": 11,
   "metadata": {
    "collapsed": false
   },
   "outputs": [
    {
     "ename": "NameError",
     "evalue": "name 'Rp' is not defined",
     "output_type": "error",
     "traceback": [
      "\u001b[1;31m---------------------------------------------------------------------------\u001b[0m",
      "\u001b[1;31mNameError\u001b[0m                                 Traceback (most recent call last)",
      "\u001b[1;32m<ipython-input-11-dea2e20ed25f>\u001b[0m in \u001b[0;36m<module>\u001b[1;34m()\u001b[0m\n\u001b[1;32m----> 1\u001b[1;33m \u001b[0mQ0\u001b[0m \u001b[1;33m=\u001b[0m \u001b[0mRp\u001b[0m\u001b[1;33m/\u001b[0m\u001b[0mXL\u001b[0m\u001b[1;33m\u001b[0m\u001b[0m\n\u001b[0m\u001b[0;32m      2\u001b[0m \u001b[0mRP\u001b[0m \u001b[1;33m=\u001b[0m \u001b[0mQ0\u001b[0m\u001b[1;33m*\u001b[0m\u001b[0mXL\u001b[0m\u001b[1;33m\u001b[0m\u001b[0m\n",
      "\u001b[1;31mNameError\u001b[0m: name 'Rp' is not defined"
     ]
    }
   ],
   "source": [
    "Q0 = Rp/XL\n",
    "RP = Q0*XL\n"
   ]
  },
  {
   "cell_type": "markdown",
   "metadata": {},
   "source": [
    "Circuito:"
   ]
  },
  {
   "cell_type": "code",
   "execution_count": 12,
   "metadata": {
    "collapsed": false
   },
   "outputs": [],
   "source": [
    "f0 = 10e6\n",
    "L1 = 3.18e-6\n",
    "C1 = 74.8e-12\n",
    "C2 = 5.3e-12\n",
    "RL = 1e3\n",
    "RG = 10e3\n",
    "Q0 = 100\n",
    "RP = Q0*L1*2*np.pi*f0"
   ]
  },
  {
   "cell_type": "code",
   "execution_count": 13,
   "metadata": {
    "collapsed": false
   },
   "outputs": [],
   "source": [
    "bpf = ahkab.Circuit('RLC bandpass')\n",
    "bpf.add_inductor('L1', 'in', bpf.gnd, L1)\n",
    "bpf.add_inductor('RP','in',bpf.gnd, RP)\n",
    "bpf.add_capacitor('C1', 'in', bpf.gnd, C1)\n",
    "bpf.add_capacitor('C2', 'in', 'n1', C2)\n",
    "bpf.add_resistor('RL', 'n1',bpf.gnd, RL)\n",
    "bpf.add_resistor('RG','in',bpf.gnd,RG)\n",
    "bpf.add_isource('I1', 'in', bpf.gnd, dc_value=1, ac_value=1)"
   ]
  },
  {
   "cell_type": "markdown",
   "metadata": {
    "collapsed": false
   },
   "source": [
    "Simulación:"
   ]
  },
  {
   "cell_type": "code",
   "execution_count": 14,
   "metadata": {
    "collapsed": false
   },
   "outputs": [],
   "source": [
    "aca = ahkab.new_ac(start=1e3*2*np.pi, stop=2e9*2*np.pi, points=5e3, x0=None)"
   ]
  },
  {
   "cell_type": "code",
   "execution_count": 15,
   "metadata": {
    "collapsed": false
   },
   "outputs": [],
   "source": [
    "rac = ahkab.run(bpf,aca)['ac']"
   ]
  },
  {
   "cell_type": "code",
   "execution_count": 16,
   "metadata": {
    "collapsed": false
   },
   "outputs": [
    {
     "data": {
      "image/png": "[encoded data removed]",
      "text/plain": [
       "<matplotlib.figure.Figure at 0x7f720cf89c18>"
      ]
     },
     "metadata": {},
     "output_type": "display_data"
    }
   ],
   "source": [
    "plt.semilogx(rac.get_x(),dB20(np.abs(rac['Vn1'])))\n",
    "plt.rcParams[\"figure.figsize\"] = 22,10\n",
    "#plt.xlim(3e7,0.6e8)"
   ]
  },
  {
   "cell_type": "code",
   "execution_count": 17,
   "metadata": {
    "collapsed": false
   },
   "outputs": [
    {
     "data": {
      "text/plain": [
       "<bound method Circuit.add_model of [<ahkab.devices.Inductor object at 0x7f71ce7fd978>, <ahkab.devices.Inductor object at 0x7f71ce7fd940>, <ahkab.devices.Capacitor object at 0x7f71ce7fd9e8>, <ahkab.devices.Capacitor object at 0x7f71ce7fd9b0>, <ahkab.devices.Resistor object at 0x7f71ce7fda58>, <ahkab.devices.Resistor object at 0x7f71ce7fdac8>, <ahkab.devices.ISource object at 0x7f71ce7fda20>]>"
      ]
     },
     "execution_count": 17,
     "metadata": {},
     "output_type": "execute_result"
    }
   ],
   "source": [
    "bpf.add_model"
   ]
  },
  {
   "cell_type": "code",
   "execution_count": 22,
   "metadata": {
    "collapsed": false
   },
   "outputs": [
    {
     "name": "stdout",
     "output_type": "stream",
     "text": [
      "1\n",
      "12\n",
      "123\n",
      "1234\n",
      "12345\n",
      "123456\n",
      "1234567\n",
      "12345678\n",
      "123456789\n"
     ]
    }
   ],
   "source": [
    "text = \"\"\n",
    "for i in range(1,10):\n",
    "    text += str(i)\n",
    "    print(text)"
   ]
  },
  {
   "cell_type": "code",
   "execution_count": null,
   "metadata": {
    "collapsed": true
   },
   "outputs": [],
   "source": []
  }
 ],
 "metadata": {
  "kernelspec": {
   "display_name": "Python 3",
   "language": "python",
   "name": "python3"
  },
  "language_info": {
   "codemirror_mode": {
    "name": "ipython",
    "version": 3
   },
   "file_extension": ".py",
   "mimetype": "text/x-python",
   "name": "python",
   "nbconvert_exporter": "python",
   "pygments_lexer": "ipython3",
   "version": "3.4.3+"
  }
 },
 "nbformat": 4,
 "nbformat_minor": 0
}

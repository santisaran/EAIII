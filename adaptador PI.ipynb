{
 "cells": [
  {
   "cell_type": "code",
   "execution_count": 1,
   "metadata": {
    "collapsed": false
   },
   "outputs": [],
   "source": [
    "import ahkab\n",
    "import numpy as np\n",
    "import scipy as sp\n",
    "import matplotlib \n",
    "from matplotlib import pylab as plt\n",
    "import sympy\n",
    "%matplotlib notebook"
   ]
  },
  {
   "cell_type": "code",
   "execution_count": 2,
   "metadata": {
    "collapsed": true
   },
   "outputs": [],
   "source": [
    "def dB20(x):\n",
    "    return 20*np.log10(x)\n"
   ]
  },
  {
   "cell_type": "code",
   "execution_count": null,
   "metadata": {
    "collapsed": true
   },
   "outputs": [],
   "source": []
  },
  {
   "cell_type": "markdown",
   "metadata": {},
   "source": [
    "Circuito:"
   ]
  },
  {
   "cell_type": "code",
   "execution_count": 3,
   "metadata": {
    "collapsed": false
   },
   "outputs": [],
   "source": [
    "f0 = 10e6\n",
    "L1 = 3.18e-6\n",
    "C1 = 74.8e-12\n",
    "C2 = 5.3e-12\n",
    "RL = 1e3\n",
    "RG = 10e3\n",
    "Q0 = 100\n",
    "RP = Q0*L1*2*np.pi*f0"
   ]
  },
  {
   "cell_type": "code",
   "execution_count": null,
   "metadata": {
    "collapsed": false
   },
   "outputs": [],
   "source": [
    "bpf = ahkab.Circuit('RLC bandpass')\n",
    "bpf.add_inductor('L1', 'in', bpf.gnd, L1)\n",
    "bpf.add_inductor('RP','in',bpf.gnd, RP)\n",
    "bpf.add_capacitor('C1', 'in', bpf.gnd, C1)\n",
    "bpf.add_capacitor('C2', 'in', 'n1', C2)\n",
    "bpf.add_resistor('RL', 'n1',bpf.gnd, RL)\n",
    "bpf.add_resistor('RG','in',bpf.gnd,RG)\n",
    "bpf.add_isource('I1', 'in', bpf.gnd, dc_value=1, ac_value=1)"
   ]
  },
  {
   "cell_type": "markdown",
   "metadata": {
    "collapsed": false
   },
   "source": [
    "Simulación:"
   ]
  },
  {
   "cell_type": "code",
   "execution_count": null,
   "metadata": {
    "collapsed": false
   },
   "outputs": [],
   "source": [
    "aca = ahkab.new_ac(start=1e3*2*np.pi, stop=2e9*2*np.pi, points=5e3, x0=None)"
   ]
  },
  {
   "cell_type": "code",
   "execution_count": null,
   "metadata": {
    "collapsed": false
   },
   "outputs": [],
   "source": [
    "rac = ahkab.run(bpf,aca)['ac']"
   ]
  },
  {
   "cell_type": "code",
   "execution_count": null,
   "metadata": {
    "collapsed": false
   },
   "outputs": [],
   "source": [
    "plt.semilogx(rac.get_x(),dB20(np.abs(rac['Vn1'])))\n",
    "plt.rcParams[\"figure.figsize\"] = 22,10\n",
    "#plt.xlim(3e7,0.6e8)"
   ]
  },
  {
   "cell_type": "code",
   "execution_count": null,
   "metadata": {
    "collapsed": false
   },
   "outputs": [],
   "source": [
    "Fp = 455000\n",
    "Fm = 3000\n",
    "Mult = 200 #a cuantas Fp muestreo\n",
    "Fs = Mult*Fp\n",
    "tiempo = 1\n",
    "t = np.linspace(0,tiempo,tiempo*Fs)\n",
    "Ebb = 0.8\n",
    "ec1 = 1\n",
    "f = Ebb*(1+0.5*np.cos(t))*np.cos(100*t)+1+0.5*np.cos(t)"
   ]
  },
  {
   "cell_type": "code",
   "execution_count": null,
   "metadata": {
    "collapsed": false
   },
   "outputs": [],
   "source": [
    "plt.plot(t,f)"
   ]
  },
  {
   "cell_type": "code",
   "execution_count": null,
   "metadata": {
    "collapsed": true
   },
   "outputs": [],
   "source": []
  },
  {
   "cell_type": "code",
   "execution_count": null,
   "metadata": {
    "collapsed": true
   },
   "outputs": [],
   "source": []
  }
 ],
 "metadata": {
  "kernelspec": {
   "display_name": "Python 3",
   "language": "python",
   "name": "python3"
  },
  "language_info": {
   "codemirror_mode": {
    "name": "ipython",
    "version": 3
   },
   "file_extension": ".py",
   "mimetype": "text/x-python",
   "name": "python",
   "nbconvert_exporter": "python",
   "pygments_lexer": "ipython3",
   "version": "3.4.2"
  }
 },
 "nbformat": 4,
 "nbformat_minor": 0
}

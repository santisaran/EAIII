{
 "cells": [
  {
   "cell_type": "markdown",
   "metadata": {},
   "source": [
    "<script type=\"text/x-mathjax-config\">\n",
    "MathJax.Hub.Config({\n",
    "TeX: { equationNumbers: { autoNumber: \"AMS\" } }\n",
    "});\n",
    "</script>"
   ]
  },
  {
   "cell_type": "markdown",
   "metadata": {},
   "source": [
    "# Circuitos de adaptación"
   ]
  },
  {
   "cell_type": "markdown",
   "metadata": {},
   "source": [
    "## 1. Introducción\n",
    "---"
   ]
  },
  {
   "cell_type": "markdown",
   "metadata": {},
   "source": [
    "Se trata de arbitrar los medios apra obtener una cantidad de potencia adecuada sobre una carga que de ser conectada en forma direceta resultaría mínima. En muchos casos además de buscar una potencia determinada se requiere por razones de filtrado un Q alto que no debe perderse y por lo tanto el circuito de adaptación deberá brindar una solución de compromiso entre potencia deseable en la carga y el Q del circuito. Se describen a continuación una serie de teoremas sobre los que se apoya la teoría de adaptación"
   ]
  },
  {
   "cell_type": "markdown",
   "metadata": {},
   "source": [
    "## 2. Concepto Q. Conversión serie paralelo de circuitos.\n",
    "---"
   ]
  },
  {
   "cell_type": "markdown",
   "metadata": {},
   "source": [
    "Se recuerda que el Q de un circuito da la relación entre la energía almacenada por el circuito y la energía disipada, este puede ser visto en término de potencias por medio de:"
   ]
  },
  {
   "cell_type": "markdown",
   "metadata": {
    "collapsed": true
   },
   "source": [
    "<img src=\"pics/RLC.svg\" align=\"left\"/> <p>$ Q = \\frac{Potencia reactiva}{Potencia Activa} $ </p>\n"
   ]
  },
  {
   "cell_type": "markdown",
   "metadata": {},
   "source": [
    "En la figura 1 se muestra un circuito RLC paralelo y se indica donde se desarrollan las potencias indicadas por la definición de Q. Para el caso de un circuito paralelo se tendría:"
   ]
  },
  {
   "cell_type": "markdown",
   "metadata": {},
   "source": [
    "<img src=pics/Xp-Rp.svg align=\"left\">\n",
    "<p>$Q = \\frac{\\frac{V^2}{X_p}}{\\frac{V^2}{R_p}} = \\frac{R_p}{X_p}$ </p>"
   ]
  },
  {
   "cell_type": "markdown",
   "metadata": {},
   "source": [
    "Si se tratara de un circuito R-L $$Q_P = \\frac{R_P}{\\omega L_P}$$ Para un circuito R-C $$ Q_P = R_P \\omega C_P$$"
   ]
  },
  {
   "cell_type": "markdown",
   "metadata": {},
   "source": [
    "En un circuito serie:"
   ]
  },
  {
   "cell_type": "markdown",
   "metadata": {},
   "source": [
    "<img src=pics/Xs-Rs.svg align=left> <p> $ Q_s = \\frac{I^2 X_S}{I^2R_S} = \\frac{X_S}{R_S}$ </p>"
   ]
  },
  {
   "cell_type": "markdown",
   "metadata": {},
   "source": [
    "Aplicado a un circuito R-L sería: $$ Q_S = \\frac{\\omega L_S}{R_S} $$ y para un circuito R-C $$ Q_S = \\frac{1}{\\omega C_S R_S} $$"
   ]
  },
  {
   "cell_type": "markdown",
   "metadata": {
    "collapsed": true
   },
   "source": [
    "En toda la teoría de adaptación es un muy utilizada la posibilidad de convertir un circuito serie en uno paralelo y viceversa."
   ]
  },
  {
   "cell_type": "markdown",
   "metadata": {},
   "source": [
    "Si consideramos entonces el siguiente circuito:"
   ]
  },
  {
   "cell_type": "markdown",
   "metadata": {
    "collapsed": true
   },
   "source": [
    "<img src=pics/xsxp.svg>"
   ]
  },
  {
   "cell_type": "markdown",
   "metadata": {},
   "source": [
    "Para que el equivalente paralelo sea válido, a la frecuencia de trabajo las impedancias serie y paralelo deben tener idénticas partes reales e imaginarias, por lo tanto tener el mismo Q"
   ]
  },
  {
   "cell_type": "markdown",
   "metadata": {},
   "source": [
    "$$ Z_S = R_S + \\mathbf{j}\\omega L_S = R_S + \\mathbf{j}X_S $$"
   ]
  },
  {
   "cell_type": "markdown",
   "metadata": {},
   "source": [
    "Luego: "
   ]
  },
  {
   "cell_type": "markdown",
   "metadata": {},
   "source": [
    "$$ Y_P= \\frac{1}{R_P}+\\frac{1}{\\mathbf{j} \\omega L_P}=\\frac{\\mathbf{j} \\omega L_P +R_P}{\\mathbf{j} \\omega L_P R_P}$$"
   ]
  },
  {
   "cell_type": "markdown",
   "metadata": {},
   "source": [
    "$$Z_P = \\frac{\\mathbf{j} \\omega L_P R_P}{\\mathbf{j} \\omega L_P +R_P} $$\n"
   ]
  },
  {
   "cell_type": "markdown",
   "metadata": {},
   "source": [
    "$$\n",
    "Z_P = \\frac{\\mathbf{j} \\omega L_P R_P}{R_P+\\mathbf{j} \\omega L_P} \\cdot \\frac{R_P - \\mathbf{j} \\omega L_P}{R_P -\\mathbf{j} \\omega L_P} $$\n"
   ]
  },
  {
   "cell_type": "markdown",
   "metadata": {},
   "source": [
    "$$Z_P = \\frac{\\mathbf{j} \\omega L_P R_P^2 + \\omega^2L_P^2R_P}{R_P^2 + (\\omega L_P)^2} $$"
   ]
  },
  {
   "cell_type": "markdown",
   "metadata": {},
   "source": [
    "Ahora se puede serparar la parte real de la parte imaginaria:"
   ]
  },
  {
   "cell_type": "markdown",
   "metadata": {},
   "source": [
    "$$Z_P = \\frac{\\omega^2L_P^2R_P}{R_P^2 + (\\omega L_P)^2} + \\mathbf{j} \\frac{ \\omega L_P R_P^2}{R_P^2 + (\\omega L_P)^2}$$"
   ]
  },
  {
   "cell_type": "markdown",
   "metadata": {},
   "source": [
    "Si ahora se igualan las partes reales e imaginarias de $Z_P$ y $Z_S$:"
   ]
  },
  {
   "cell_type": "markdown",
   "metadata": {},
   "source": [
    "$$R_S = \\frac{\\omega^2L_P^2R_P}{R_P^2 + (\\omega L_P)^2}=\\frac{\\omega^2L_P^2R_P}{R_P^2\\left[1+ \\left(\\frac{\\omega L_P}{R_P}\\right)^2\\right]}$$"
   ]
  },
  {
   "cell_type": "markdown",
   "metadata": {},
   "source": [
    "Y como $Q_P = \\frac{R_P}{\\omega L_P}$"
   ]
  },
  {
   "cell_type": "markdown",
   "metadata": {},
   "source": [
    "$$ R_S = \\frac{R_P}{Q^2 \\left[1+\\frac{1}{Q^2}\\right]}=\\frac{R_P}{Q^2+1} $$"
   ]
  },
  {
   "cell_type": "markdown",
   "metadata": {},
   "source": [
    "Por lo que puede relacionarse R serie con R paralelo mediantel el Q de la siguiente forma:"
   ]
  },
  {
   "cell_type": "markdown",
   "metadata": {},
   "source": [
    "$$ \\boxed{ R_S=\\frac{R_P}{Q^2+1} } \\\\\n",
    "\\boxed{R_P = R_S \\cdot\\left[Q^2+1\\right]}$$"
   ]
  },
  {
   "cell_type": "markdown",
   "metadata": {},
   "source": [
    "Igualando las partes imagiarias, se puede hacer un planteo similar:"
   ]
  },
  {
   "cell_type": "markdown",
   "metadata": {},
   "source": [
    "$$ X_S = \\frac{X_P \\cdot R_P^2}{R_P^2+X_P^2} $$"
   ]
  },
  {
   "cell_type": "markdown",
   "metadata": {},
   "source": [
    "$$ X_S = X_P \\frac{1}{\\left(1+\\left(\\frac{X_P}{R_P}\\right)^2\\right)}$$"
   ]
  },
  {
   "cell_type": "markdown",
   "metadata": {},
   "source": [
    "$$\\boxed{X_S = X_P \\frac{1}{1+\\frac{1}{Q^2}}}$$"
   ]
  },
  {
   "cell_type": "markdown",
   "metadata": {},
   "source": [
    "$$\\boxed{X_P = X_S \\cdot \\left(1+\\frac{1}{Q^2}\\right)}$$"
   ]
  },
  {
   "cell_type": "markdown",
   "metadata": {},
   "source": [
    "Las cuatro fórmulas anteriores entonces sirven para convertir un circuito tanto RL con RC de serie a paralelo y biceversa."
   ]
  },
  {
   "cell_type": "markdown",
   "metadata": {},
   "source": [
    "## 3. Q Libre y Q cargado\n",
    "---"
   ]
  },
  {
   "cell_type": "markdown",
   "metadata": {},
   "source": [
    "Analizando el modelo paralelo de una bobina:"
   ]
  },
  {
   "cell_type": "markdown",
   "metadata": {},
   "source": [
    "<img src=pics/ind_mod_paralelo.svg align=left> \\begin{align} Q_0 = \\frac{R_P}{\\omega L_P} \\end{align}"
   ]
  },
  {
   "cell_type": "markdown",
   "metadata": {},
   "source": [
    "Donde $Q_0$ es $Q$ libre del inductor, cuando se carga externamente se tiene:"
   ]
  },
  {
   "cell_type": "markdown",
   "metadata": {},
   "source": [
    "<img src=pics/qcargado.svg align=left> <p> R es un resistor externo</p>"
   ]
  },
  {
   "cell_type": "markdown",
   "metadata": {
    "collapsed": true
   },
   "source": [
    "El $Q$ del circuito cargado vale:"
   ]
  },
  {
   "cell_type": "markdown",
   "metadata": {},
   "source": [
    "$Q_C = \\frac{R_T}{\\omega L_P}$ con $\\frac {1}{R_T} = \\frac{1}{R}+\\frac{1}{R_P}$"
   ]
  },
  {
   "cell_type": "markdown",
   "metadata": {},
   "source": [
    "Luego:"
   ]
  },
  {
   "cell_type": "markdown",
   "metadata": {},
   "source": [
    "$$ \\frac{1}{Q_C}= \\frac{\\omega L_P}{R_T} = \\omega L_P \\left(\\frac{1}{R}+\\frac{1}{R_P}\\right)$$"
   ]
  },
  {
   "cell_type": "markdown",
   "metadata": {},
   "source": [
    "$$\\boxed{\\frac{1}{Q_C} = \\frac{1}{Q_0}+\\frac{\\omega L_P}{R}}$$"
   ]
  },
  {
   "cell_type": "markdown",
   "metadata": {},
   "source": [
    "Esta es la ecuación que liga al $Q$ cargado con el $Q$ libre en un circuito R-L serie."
   ]
  },
  {
   "cell_type": "markdown",
   "metadata": {},
   "source": [
    "Justamente una de las misiones del circuito de adaptación es la de brindar un valor de $Q_C$ adecuado y por eso adapta el valor de una carga a un valor de R que incida del modo deseado sobre el $Q_0$ del circuito sin esta R. Uno de los circuitos usados para adaptar a un transformador pues refleja al primario las impedancias colocadas en el secundario multiplicadas por $ \\left( \\frac{N_1}{N_2} \\right) ^2  $ y por lo tanto el valor se puede controlar modificando la relación de transformación."
   ]
  },
  {
   "cell_type": "markdown",
   "metadata": {
    "collapsed": true
   },
   "source": [
    "## 4. Factor de selectividad\n",
    "---"
   ]
  },
  {
   "cell_type": "markdown",
   "metadata": {
    "collapsed": true
   },
   "source": [
    "El ancho de banda de su circuito resonante como el siguiente depende de un parámetro llamado Factor de selectividad."
   ]
  },
  {
   "cell_type": "code",
   "execution_count": 1,
   "metadata": {
    "collapsed": true
   },
   "outputs": [],
   "source": [
    "import ahkab\n",
    "import numpy as np\n",
    "import scipy as sp\n",
    "import matplotlib \n",
    "from matplotlib import pylab as plt\n",
    "import sympy\n",
    "%matplotlib inline"
   ]
  },
  {
   "cell_type": "markdown",
   "metadata": {},
   "source": [
    "Circuito RLC paralelo, simulado en ahkab."
   ]
  },
  {
   "cell_type": "code",
   "execution_count": 2,
   "metadata": {
    "collapsed": false
   },
   "outputs": [],
   "source": [
    "bpf = ahkab.Circuit('RLC bandpass')\n",
    "L1 = 1e-9\n",
    "C1 = 1e-6\n",
    "R1 = 0.5\n",
    "bpf.add_inductor('L1', 'in', bpf.gnd, L1)\n",
    "bpf.add_capacitor('C1', 'in', bpf.gnd, C1)\n",
    "bpf.add_resistor('R1', 'in', bpf.gnd, R1)\n",
    "bpf.add_isource('I1', 'in', bpf.gnd, dc_value=1, ac_value=1)\n",
    "aca = ahkab.new_ac(start=1e6, stop=1e7, points=5e3, x0=None)\n",
    "rac = ahkab.run(bpf,aca)['ac']\n",
    "Vin = np.abs(rac['Vin'])\n",
    "Vin = Vin/Vin.max()\n",
    "x0 = np.argmax(Vin)\n",
    "f0 = rac.get_x()[x0]\n",
    "y0 = Vin[x0]\n",
    "Q = R1/(f0*2*np.pi*L1)\n",
    "f_L = f0*(-1/(2.*Q) + np.sqrt(1+(1/(2.*Q))**2))\n",
    "f_H = f0*(+1/(2.*Q) + np.sqrt(1+(1/(2.*Q))**2))"
   ]
  },
  {
   "cell_type": "code",
   "execution_count": 3,
   "metadata": {
    "collapsed": false
   },
   "outputs": [
    {
     "data": {
      "text/plain": [
       "<matplotlib.text.Text at 0x7f6ff4b865f8>"
      ]
     },
     "execution_count": 3,
     "metadata": {},
     "output_type": "execute_result"
    },
    {
     "data": {
      "image/png": "[encoded data removed]",
      "text/plain": [
       "<matplotlib.figure.Figure at 0x7f6ff4b135c0>"
      ]
     },
     "metadata": {},
     "output_type": "display_data"
    }
   ],
   "source": [
    "plt.plot(rac.get_x(),Vin)\n",
    "Xliminf = 4.5e6\n",
    "Xlimsup = 5.5e6\n",
    "plt.xlim(Xliminf,Xlimsup)\n",
    "plt.ylim(0.1,1.1)\n",
    "plt.vlines(f0,0,Vin[x0],'r',linestyles='dashed')\n",
    "plt.vlines(f_L,0,1./np.sqrt(2),'r',linestyles='dashed')\n",
    "plt.vlines(f_H,0,1./np.sqrt(2),'r',linestyles='dashed')\n",
    "plt.hlines(y0,Xliminf,f0,'r',linestyles='dashed')\n",
    "plt.hlines(y0/np.sqrt(2.),Xliminf,f_H,'g',linestyles='dashed')\n",
    "\n",
    "#plt.plot(rac.get_x(),[i if i>Vin.max()/np.sqrt(2.) else 0 for i in Vin],'r',)\n",
    "#plt.plot(rac.get_x()/2/np.pi,[1./np.sqrt(2) if i>Vin.max()/np.sqrt(2.) else 0 for i in Vin],'-g')\n",
    "plt.text(f0,0,'$f_0$',fontsize=20)\n",
    "plt.text(f0,0.65,'$BW$')\n",
    "plt.text(Xliminf,0.75,\"$-3dB$\",fontsize=16)"
   ]
  },
  {
   "cell_type": "code",
   "execution_count": 4,
   "metadata": {
    "collapsed": false
   },
   "outputs": [],
   "source": [
    "Q = R1/(f0*2*np.pi*L1)"
   ]
  },
  {
   "cell_type": "code",
   "execution_count": 5,
   "metadata": {
    "collapsed": false
   },
   "outputs": [],
   "source": [
    "bw=f0/Q"
   ]
  },
  {
   "cell_type": "code",
   "execution_count": 6,
   "metadata": {
    "collapsed": false
   },
   "outputs": [
    {
     "name": "stdout",
     "output_type": "stream",
     "text": [
      "baja: 4875414.67341alta: 5193607.62864\n"
     ]
    }
   ],
   "source": [
    "f_L = f0*(-1/(2.*Q) + np.sqrt(1+(1/(2.*Q))**2))\n",
    "f_H = f0*(+1/(2.*Q) + np.sqrt(1+(1/(2.*Q))**2))\n",
    "print (\"baja: \" + str(f_L)+\"alta: \" + str(f_H))"
   ]
  },
  {
   "cell_type": "code",
   "execution_count": 7,
   "metadata": {
    "collapsed": false
   },
   "outputs": [
    {
     "data": {
      "text/plain": [
       "5031996.7051454904"
      ]
     },
     "execution_count": 7,
     "metadata": {},
     "output_type": "execute_result"
    }
   ],
   "source": [
    "np.sqrt(f_L*f_H)"
   ]
  },
  {
   "cell_type": "code",
   "execution_count": 8,
   "metadata": {
    "collapsed": false
   },
   "outputs": [
    {
     "data": {
      "text/plain": [
       "318192.95522571157"
      ]
     },
     "execution_count": 8,
     "metadata": {},
     "output_type": "execute_result"
    }
   ],
   "source": [
    "bw"
   ]
  },
  {
   "cell_type": "raw",
   "metadata": {
    "collapsed": true
   },
   "source": []
  },
  {
   "cell_type": "code",
   "execution_count": null,
   "metadata": {
    "collapsed": true
   },
   "outputs": [],
   "source": []
  }
 ],
 "metadata": {
  "kernelspec": {
   "display_name": "Python 3",
   "language": "python",
   "name": "python3"
  },
  "language_info": {
   "codemirror_mode": {
    "name": "ipython",
    "version": 3
   },
   "file_extension": ".py",
   "mimetype": "text/x-python",
   "name": "python",
   "nbconvert_exporter": "python",
   "pygments_lexer": "ipython3",
   "version": "3.4.3+"
  }
 },
 "nbformat": 4,
 "nbformat_minor": 0
}

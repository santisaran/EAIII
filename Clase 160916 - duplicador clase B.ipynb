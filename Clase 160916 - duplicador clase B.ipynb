{
 "cells": [
  {
   "cell_type": "code",
   "execution_count": 1,
   "metadata": {
    "collapsed": true
   },
   "outputs": [],
   "source": [
    "import numpy as np\n",
    "from matplotlib import pylab as plt\n",
    "import scipy as sp\n",
    "from scipy import signal as sgn\n",
    "import scipy.signal.signaltools as sigtool\n",
    "from scipy.signal import hilbert, chirp\n",
    "%matplotlib notebook\n",
    "fig_size = plt.rcParams[\"figure.figsize\"]\n",
    "fig_size[0] = 16\n",
    "fig_size[1] = 9\n",
    "plt.rcParams[\"figure.figsize\"] = fig_size"
   ]
  },
  {
   "cell_type": "code",
   "execution_count": 63,
   "metadata": {
    "collapsed": true
   },
   "outputs": [],
   "source": [
    "Fp = 1000000\n",
    "Fm1 = 1000\n",
    "Fm2 = 1500\n",
    "Mult = 80 #a cuantas Fp muestreo\n",
    "Fs = Mult*Fp\n",
    "tiempo = 0.006\n",
    "t = np.linspace(0,tiempo,tiempo*Fs)\n",
    "t.shape\n",
    "f = np.linspace(0,Fs,t.shape[0])"
   ]
  },
  {
   "cell_type": "code",
   "execution_count": 64,
   "metadata": {
    "collapsed": true
   },
   "outputs": [],
   "source": [
    "fig_size = plt.rcParams[\"figure.figsize\"]\n",
    "fig_size[0] = 10\n",
    "fig_size[1] = 5\n",
    "plt.rcParams[\"figure.figsize\"] = fig_size"
   ]
  },
  {
   "cell_type": "code",
   "execution_count": 65,
   "metadata": {
    "collapsed": false
   },
   "outputs": [
    {
     "data": {
      "text/plain": [
       "(480000,)"
      ]
     },
     "execution_count": 65,
     "metadata": {},
     "output_type": "execute_result"
    }
   ],
   "source": [
    "t.shape\n"
   ]
  },
  {
   "cell_type": "code",
   "execution_count": 66,
   "metadata": {
    "collapsed": true
   },
   "outputs": [],
   "source": [
    "Vs = 10\n",
    "m = 0.25\n",
    "vs = Vs*(1+m*(np.cos(2*np.pi*Fm1*t)+np.cos(2*np.pi*Fm2*t)))*np.cos(2*np.pi*Fp*t)"
   ]
  },
  {
   "cell_type": "code",
   "execution_count": 47,
   "metadata": {
    "collapsed": false
   },
   "outputs": [
    {
     "data": {
      "application/javascript": [
       "/* Put everything inside the global mpl namespace */\n",
       "window.mpl = {};\n",
       "\n",
       "mpl.get_websocket_type = function() {\n",
       "    if (typeof(WebSocket) !== 'undefined') {\n",
       "        return WebSocket;\n",
       "    } else if (typeof(MozWebSocket) !== 'undefined') {\n",
       "        return MozWebSocket;\n",
       "    } else {\n",
       "        alert('Your browser does not have WebSocket support.' +\n",
       "              'Please try Chrome, Safari or Firefox ≥ 6. ' +\n",
       "              'Firefox 4 and 5 are also supported but you ' +\n",
       "              'have to enable WebSockets in about:config.');\n",
       "    };\n",
       "}\n",
       "\n",
       "mpl.figure = function(figure_id, websocket, ondownload, parent_element) {\n",
       "    this.id = figure_id;\n",
       "\n",
       "    this.ws = websocket;\n",
       "\n",
       "    this.supports_binary = (this.ws.binaryType != undefined);\n",
       "\n",
       "    if (!this.supports_binary) {\n",
       "        var warnings = document.getElementById(\"mpl-warnings\");\n",
       "        if (warnings) {\n",
       "            warnings.style.display = 'block';\n",
       "            warnings.textContent = (\n",
       "                \"This browser does not support binary websocket messages. \" +\n",
       "                    \"Performance may be slow.\");\n",
       "        }\n",
       "    }\n",
       "\n",
       "    this.imageObj = new Image();\n",
       "\n",
       "    this.context = undefined;\n",
       "    this.message = undefined;\n",
       "    this.canvas = undefined;\n",
       "    this.rubberband_canvas = undefined;\n",
       "    this.rubberband_context = undefined;\n",
       "    this.format_dropdown = undefined;\n",
       "\n",
       "    this.image_mode = 'full';\n",
       "\n",
       "    this.root = $('<div/>');\n",
       "    this._root_extra_style(this.root)\n",
       "    this.root.attr('style', 'display: inline-block');\n",
       "\n",
       "    $(parent_element).append(this.root);\n",
       "\n",
       "    this._init_header(this);\n",
       "    this._init_canvas(this);\n",
       "    this._init_toolbar(this);\n",
       "\n",
       "    var fig = this;\n",
       "\n",
       "    this.waiting = false;\n",
       "\n",
       "    this.ws.onopen =  function () {\n",
       "            fig.send_message(\"supports_binary\", {value: fig.supports_binary});\n",
       "            fig.send_message(\"send_image_mode\", {});\n",
       "            fig.send_message(\"refresh\", {});\n",
       "        }\n",
       "\n",
       "    this.imageObj.onload = function() {\n",
       "            if (fig.image_mode == 'full') {\n",
       "                // Full images could contain transparency (where diff images\n",
       "                // almost always do), so we need to clear the canvas so that\n",
       "                // there is no ghosting.\n",
       "                fig.context.clearRect(0, 0, fig.canvas.width, fig.canvas.height);\n",
       "            }\n",
       "            fig.context.drawImage(fig.imageObj, 0, 0);\n",
       "        };\n",
       "\n",
       "    this.imageObj.onunload = function() {\n",
       "        this.ws.close();\n",
       "    }\n",
       "\n",
       "    this.ws.onmessage = this._make_on_message_function(this);\n",
       "\n",
       "    this.ondownload = ondownload;\n",
       "}\n",
       "\n",
       "mpl.figure.prototype._init_header = function() {\n",
       "    var titlebar = $(\n",
       "        '<div class=\"ui-dialog-titlebar ui-widget-header ui-corner-all ' +\n",
       "        'ui-helper-clearfix\"/>');\n",
       "    var titletext = $(\n",
       "        '<div class=\"ui-dialog-title\" style=\"width: 100%; ' +\n",
       "        'text-align: center; padding: 3px;\"/>');\n",
       "    titlebar.append(titletext)\n",
       "    this.root.append(titlebar);\n",
       "    this.header = titletext[0];\n",
       "}\n",
       "\n",
       "\n",
       "\n",
       "mpl.figure.prototype._canvas_extra_style = function(canvas_div) {\n",
       "\n",
       "}\n",
       "\n",
       "\n",
       "mpl.figure.prototype._root_extra_style = function(canvas_div) {\n",
       "\n",
       "}\n",
       "\n",
       "mpl.figure.prototype._init_canvas = function() {\n",
       "    var fig = this;\n",
       "\n",
       "    var canvas_div = $('<div/>');\n",
       "\n",
       "    canvas_div.attr('style', 'position: relative; clear: both; outline: 0');\n",
       "\n",
       "    function canvas_keyboard_event(event) {\n",
       "        return fig.key_event(event, event['data']);\n",
       "    }\n",
       "\n",
       "    canvas_div.keydown('key_press', canvas_keyboard_event);\n",
       "    canvas_div.keyup('key_release', canvas_keyboard_event);\n",
       "    this.canvas_div = canvas_div\n",
       "    this._canvas_extra_style(canvas_div)\n",
       "    this.root.append(canvas_div);\n",
       "\n",
       "    var canvas = $('<canvas/>');\n",
       "    canvas.addClass('mpl-canvas');\n",
       "    canvas.attr('style', \"left: 0; top: 0; z-index: 0; outline: 0\")\n",
       "\n",
       "    this.canvas = canvas[0];\n",
       "    this.context = canvas[0].getContext(\"2d\");\n",
       "\n",
       "    var rubberband = $('<canvas/>');\n",
       "    rubberband.attr('style', \"position: absolute; left: 0; top: 0; z-index: 1;\")\n",
       "\n",
       "    var pass_mouse_events = true;\n",
       "\n",
       "    canvas_div.resizable({\n",
       "        start: function(event, ui) {\n",
       "            pass_mouse_events = false;\n",
       "        },\n",
       "        resize: function(event, ui) {\n",
       "            fig.request_resize(ui.size.width, ui.size.height);\n",
       "        },\n",
       "        stop: function(event, ui) {\n",
       "            pass_mouse_events = true;\n",
       "            fig.request_resize(ui.size.width, ui.size.height);\n",
       "        },\n",
       "    });\n",
       "\n",
       "    function mouse_event_fn(event) {\n",
       "        if (pass_mouse_events)\n",
       "            return fig.mouse_event(event, event['data']);\n",
       "    }\n",
       "\n",
       "    rubberband.mousedown('button_press', mouse_event_fn);\n",
       "    rubberband.mouseup('button_release', mouse_event_fn);\n",
       "    // Throttle sequential mouse events to 1 every 20ms.\n",
       "    rubberband.mousemove('motion_notify', mouse_event_fn);\n",
       "\n",
       "    rubberband.mouseenter('figure_enter', mouse_event_fn);\n",
       "    rubberband.mouseleave('figure_leave', mouse_event_fn);\n",
       "\n",
       "    canvas_div.on(\"wheel\", function (event) {\n",
       "        event = event.originalEvent;\n",
       "        event['data'] = 'scroll'\n",
       "        if (event.deltaY < 0) {\n",
       "            event.step = 1;\n",
       "        } else {\n",
       "            event.step = -1;\n",
       "        }\n",
       "        mouse_event_fn(event);\n",
       "    });\n",
       "\n",
       "    canvas_div.append(canvas);\n",
       "    canvas_div.append(rubberband);\n",
       "\n",
       "    this.rubberband = rubberband;\n",
       "    this.rubberband_canvas = rubberband[0];\n",
       "    this.rubberband_context = rubberband[0].getContext(\"2d\");\n",
       "    this.rubberband_context.strokeStyle = \"#000000\";\n",
       "\n",
       "    this._resize_canvas = function(width, height) {\n",
       "        // Keep the size of the canvas, canvas container, and rubber band\n",
       "        // canvas in synch.\n",
       "        canvas_div.css('width', width)\n",
       "        canvas_div.css('height', height)\n",
       "\n",
       "        canvas.attr('width', width);\n",
       "        canvas.attr('height', height);\n",
       "\n",
       "        rubberband.attr('width', width);\n",
       "        rubberband.attr('height', height);\n",
       "    }\n",
       "\n",
       "    // Set the figure to an initial 600x600px, this will subsequently be updated\n",
       "    // upon first draw.\n",
       "    this._resize_canvas(600, 600);\n",
       "\n",
       "    // Disable right mouse context menu.\n",
       "    $(this.rubberband_canvas).bind(\"contextmenu\",function(e){\n",
       "        return false;\n",
       "    });\n",
       "\n",
       "    function set_focus () {\n",
       "        canvas.focus();\n",
       "        canvas_div.focus();\n",
       "    }\n",
       "\n",
       "    window.setTimeout(set_focus, 100);\n",
       "}\n",
       "\n",
       "mpl.figure.prototype._init_toolbar = function() {\n",
       "    var fig = this;\n",
       "\n",
       "    var nav_element = $('<div/>')\n",
       "    nav_element.attr('style', 'width: 100%');\n",
       "    this.root.append(nav_element);\n",
       "\n",
       "    // Define a callback function for later on.\n",
       "    function toolbar_event(event) {\n",
       "        return fig.toolbar_button_onclick(event['data']);\n",
       "    }\n",
       "    function toolbar_mouse_event(event) {\n",
       "        return fig.toolbar_button_onmouseover(event['data']);\n",
       "    }\n",
       "\n",
       "    for(var toolbar_ind in mpl.toolbar_items) {\n",
       "        var name = mpl.toolbar_items[toolbar_ind][0];\n",
       "        var tooltip = mpl.toolbar_items[toolbar_ind][1];\n",
       "        var image = mpl.toolbar_items[toolbar_ind][2];\n",
       "        var method_name = mpl.toolbar_items[toolbar_ind][3];\n",
       "\n",
       "        if (!name) {\n",
       "            // put a spacer in here.\n",
       "            continue;\n",
       "        }\n",
       "        var button = $('<button/>');\n",
       "        button.addClass('ui-button ui-widget ui-state-default ui-corner-all ' +\n",
       "                        'ui-button-icon-only');\n",
       "        button.attr('role', 'button');\n",
       "        button.attr('aria-disabled', 'false');\n",
       "        button.click(method_name, toolbar_event);\n",
       "        button.mouseover(tooltip, toolbar_mouse_event);\n",
       "\n",
       "        var icon_img = $('<span/>');\n",
       "        icon_img.addClass('ui-button-icon-primary ui-icon');\n",
       "        icon_img.addClass(image);\n",
       "        icon_img.addClass('ui-corner-all');\n",
       "\n",
       "        var tooltip_span = $('<span/>');\n",
       "        tooltip_span.addClass('ui-button-text');\n",
       "        tooltip_span.html(tooltip);\n",
       "\n",
       "        button.append(icon_img);\n",
       "        button.append(tooltip_span);\n",
       "\n",
       "        nav_element.append(button);\n",
       "    }\n",
       "\n",
       "    var fmt_picker_span = $('<span/>');\n",
       "\n",
       "    var fmt_picker = $('<select/>');\n",
       "    fmt_picker.addClass('mpl-toolbar-option ui-widget ui-widget-content');\n",
       "    fmt_picker_span.append(fmt_picker);\n",
       "    nav_element.append(fmt_picker_span);\n",
       "    this.format_dropdown = fmt_picker[0];\n",
       "\n",
       "    for (var ind in mpl.extensions) {\n",
       "        var fmt = mpl.extensions[ind];\n",
       "        var option = $(\n",
       "            '<option/>', {selected: fmt === mpl.default_extension}).html(fmt);\n",
       "        fmt_picker.append(option)\n",
       "    }\n",
       "\n",
       "    // Add hover states to the ui-buttons\n",
       "    $( \".ui-button\" ).hover(\n",
       "        function() { $(this).addClass(\"ui-state-hover\");},\n",
       "        function() { $(this).removeClass(\"ui-state-hover\");}\n",
       "    );\n",
       "\n",
       "    var status_bar = $('<span class=\"mpl-message\"/>');\n",
       "    nav_element.append(status_bar);\n",
       "    this.message = status_bar[0];\n",
       "}\n",
       "\n",
       "mpl.figure.prototype.request_resize = function(x_pixels, y_pixels) {\n",
       "    // Request matplotlib to resize the figure. Matplotlib will then trigger a resize in the client,\n",
       "    // which will in turn request a refresh of the image.\n",
       "    this.send_message('resize', {'width': x_pixels, 'height': y_pixels});\n",
       "}\n",
       "\n",
       "mpl.figure.prototype.send_message = function(type, properties) {\n",
       "    properties['type'] = type;\n",
       "    properties['figure_id'] = this.id;\n",
       "    this.ws.send(JSON.stringify(properties));\n",
       "}\n",
       "\n",
       "mpl.figure.prototype.send_draw_message = function() {\n",
       "    if (!this.waiting) {\n",
       "        this.waiting = true;\n",
       "        this.ws.send(JSON.stringify({type: \"draw\", figure_id: this.id}));\n",
       "    }\n",
       "}\n",
       "\n",
       "\n",
       "mpl.figure.prototype.handle_save = function(fig, msg) {\n",
       "    var format_dropdown = fig.format_dropdown;\n",
       "    var format = format_dropdown.options[format_dropdown.selectedIndex].value;\n",
       "    fig.ondownload(fig, format);\n",
       "}\n",
       "\n",
       "\n",
       "mpl.figure.prototype.handle_resize = function(fig, msg) {\n",
       "    var size = msg['size'];\n",
       "    if (size[0] != fig.canvas.width || size[1] != fig.canvas.height) {\n",
       "        fig._resize_canvas(size[0], size[1]);\n",
       "        fig.send_message(\"refresh\", {});\n",
       "    };\n",
       "}\n",
       "\n",
       "mpl.figure.prototype.handle_rubberband = function(fig, msg) {\n",
       "    var x0 = msg['x0'];\n",
       "    var y0 = fig.canvas.height - msg['y0'];\n",
       "    var x1 = msg['x1'];\n",
       "    var y1 = fig.canvas.height - msg['y1'];\n",
       "    x0 = Math.floor(x0) + 0.5;\n",
       "    y0 = Math.floor(y0) + 0.5;\n",
       "    x1 = Math.floor(x1) + 0.5;\n",
       "    y1 = Math.floor(y1) + 0.5;\n",
       "    var min_x = Math.min(x0, x1);\n",
       "    var min_y = Math.min(y0, y1);\n",
       "    var width = Math.abs(x1 - x0);\n",
       "    var height = Math.abs(y1 - y0);\n",
       "\n",
       "    fig.rubberband_context.clearRect(\n",
       "        0, 0, fig.canvas.width, fig.canvas.height);\n",
       "\n",
       "    fig.rubberband_context.strokeRect(min_x, min_y, width, height);\n",
       "}\n",
       "\n",
       "mpl.figure.prototype.handle_figure_label = function(fig, msg) {\n",
       "    // Updates the figure title.\n",
       "    fig.header.textContent = msg['label'];\n",
       "}\n",
       "\n",
       "mpl.figure.prototype.handle_cursor = function(fig, msg) {\n",
       "    var cursor = msg['cursor'];\n",
       "    switch(cursor)\n",
       "    {\n",
       "    case 0:\n",
       "        cursor = 'pointer';\n",
       "        break;\n",
       "    case 1:\n",
       "        cursor = 'default';\n",
       "        break;\n",
       "    case 2:\n",
       "        cursor = 'crosshair';\n",
       "        break;\n",
       "    case 3:\n",
       "        cursor = 'move';\n",
       "        break;\n",
       "    }\n",
       "    fig.rubberband_canvas.style.cursor = cursor;\n",
       "}\n",
       "\n",
       "mpl.figure.prototype.handle_message = function(fig, msg) {\n",
       "    fig.message.textContent = msg['message'];\n",
       "}\n",
       "\n",
       "mpl.figure.prototype.handle_draw = function(fig, msg) {\n",
       "    // Request the server to send over a new figure.\n",
       "    fig.send_draw_message();\n",
       "}\n",
       "\n",
       "mpl.figure.prototype.handle_image_mode = function(fig, msg) {\n",
       "    fig.image_mode = msg['mode'];\n",
       "}\n",
       "\n",
       "mpl.figure.prototype.updated_canvas_event = function() {\n",
       "    // Called whenever the canvas gets updated.\n",
       "    this.send_message(\"ack\", {});\n",
       "}\n",
       "\n",
       "// A function to construct a web socket function for onmessage handling.\n",
       "// Called in the figure constructor.\n",
       "mpl.figure.prototype._make_on_message_function = function(fig) {\n",
       "    return function socket_on_message(evt) {\n",
       "        if (evt.data instanceof Blob) {\n",
       "            /* FIXME: We get \"Resource interpreted as Image but\n",
       "             * transferred with MIME type text/plain:\" errors on\n",
       "             * Chrome.  But how to set the MIME type?  It doesn't seem\n",
       "             * to be part of the websocket stream */\n",
       "            evt.data.type = \"image/png\";\n",
       "\n",
       "            /* Free the memory for the previous frames */\n",
       "            if (fig.imageObj.src) {\n",
       "                (window.URL || window.webkitURL).revokeObjectURL(\n",
       "                    fig.imageObj.src);\n",
       "            }\n",
       "\n",
       "            fig.imageObj.src = (window.URL || window.webkitURL).createObjectURL(\n",
       "                evt.data);\n",
       "            fig.updated_canvas_event();\n",
       "            fig.waiting = false;\n",
       "            return;\n",
       "        }\n",
       "        else if (typeof evt.data === 'string' && evt.data.slice(0, 21) == \"data:image/png;base64\") {\n",
       "            fig.imageObj.src = evt.data;\n",
       "            fig.updated_canvas_event();\n",
       "            fig.waiting = false;\n",
       "            return;\n",
       "        }\n",
       "\n",
       "        var msg = JSON.parse(evt.data);\n",
       "        var msg_type = msg['type'];\n",
       "\n",
       "        // Call the  \"handle_{type}\" callback, which takes\n",
       "        // the figure and JSON message as its only arguments.\n",
       "        try {\n",
       "            var callback = fig[\"handle_\" + msg_type];\n",
       "        } catch (e) {\n",
       "            console.log(\"No handler for the '\" + msg_type + \"' message type: \", msg);\n",
       "            return;\n",
       "        }\n",
       "\n",
       "        if (callback) {\n",
       "            try {\n",
       "                // console.log(\"Handling '\" + msg_type + \"' message: \", msg);\n",
       "                callback(fig, msg);\n",
       "            } catch (e) {\n",
       "                console.log(\"Exception inside the 'handler_\" + msg_type + \"' callback:\", e, e.stack, msg);\n",
       "            }\n",
       "        }\n",
       "    };\n",
       "}\n",
       "\n",
       "// from http://stackoverflow.com/questions/1114465/getting-mouse-location-in-canvas\n",
       "mpl.findpos = function(e) {\n",
       "    //this section is from http://www.quirksmode.org/js/events_properties.html\n",
       "    var targ;\n",
       "    if (!e)\n",
       "        e = window.event;\n",
       "    if (e.target)\n",
       "        targ = e.target;\n",
       "    else if (e.srcElement)\n",
       "        targ = e.srcElement;\n",
       "    if (targ.nodeType == 3) // defeat Safari bug\n",
       "        targ = targ.parentNode;\n",
       "\n",
       "    // jQuery normalizes the pageX and pageY\n",
       "    // pageX,Y are the mouse positions relative to the document\n",
       "    // offset() returns the position of the element relative to the document\n",
       "    var x = e.pageX - $(targ).offset().left;\n",
       "    var y = e.pageY - $(targ).offset().top;\n",
       "\n",
       "    return {\"x\": x, \"y\": y};\n",
       "};\n",
       "\n",
       "/*\n",
       " * return a copy of an object with only non-object keys\n",
       " * we need this to avoid circular references\n",
       " * http://stackoverflow.com/a/24161582/3208463\n",
       " */\n",
       "function simpleKeys (original) {\n",
       "  return Object.keys(original).reduce(function (obj, key) {\n",
       "    if (typeof original[key] !== 'object')\n",
       "        obj[key] = original[key]\n",
       "    return obj;\n",
       "  }, {});\n",
       "}\n",
       "\n",
       "mpl.figure.prototype.mouse_event = function(event, name) {\n",
       "    var canvas_pos = mpl.findpos(event)\n",
       "\n",
       "    if (name === 'button_press')\n",
       "    {\n",
       "        this.canvas.focus();\n",
       "        this.canvas_div.focus();\n",
       "    }\n",
       "\n",
       "    var x = canvas_pos.x;\n",
       "    var y = canvas_pos.y;\n",
       "\n",
       "    this.send_message(name, {x: x, y: y, button: event.button,\n",
       "                             step: event.step,\n",
       "                             guiEvent: simpleKeys(event)});\n",
       "\n",
       "    /* This prevents the web browser from automatically changing to\n",
       "     * the text insertion cursor when the button is pressed.  We want\n",
       "     * to control all of the cursor setting manually through the\n",
       "     * 'cursor' event from matplotlib */\n",
       "    event.preventDefault();\n",
       "    return false;\n",
       "}\n",
       "\n",
       "mpl.figure.prototype._key_event_extra = function(event, name) {\n",
       "    // Handle any extra behaviour associated with a key event\n",
       "}\n",
       "\n",
       "mpl.figure.prototype.key_event = function(event, name) {\n",
       "\n",
       "    // Prevent repeat events\n",
       "    if (name == 'key_press')\n",
       "    {\n",
       "        if (event.which === this._key)\n",
       "            return;\n",
       "        else\n",
       "            this._key = event.which;\n",
       "    }\n",
       "    if (name == 'key_release')\n",
       "        this._key = null;\n",
       "\n",
       "    var value = '';\n",
       "    if (event.ctrlKey && event.which != 17)\n",
       "        value += \"ctrl+\";\n",
       "    if (event.altKey && event.which != 18)\n",
       "        value += \"alt+\";\n",
       "    if (event.shiftKey && event.which != 16)\n",
       "        value += \"shift+\";\n",
       "\n",
       "    value += 'k';\n",
       "    value += event.which.toString();\n",
       "\n",
       "    this._key_event_extra(event, name);\n",
       "\n",
       "    this.send_message(name, {key: value,\n",
       "                             guiEvent: simpleKeys(event)});\n",
       "    return false;\n",
       "}\n",
       "\n",
       "mpl.figure.prototype.toolbar_button_onclick = function(name) {\n",
       "    if (name == 'download') {\n",
       "        this.handle_save(this, null);\n",
       "    } else {\n",
       "        this.send_message(\"toolbar_button\", {name: name});\n",
       "    }\n",
       "};\n",
       "\n",
       "mpl.figure.prototype.toolbar_button_onmouseover = function(tooltip) {\n",
       "    this.message.textContent = tooltip;\n",
       "};\n",
       "mpl.toolbar_items = [[\"Home\", \"Reset original view\", \"fa fa-home icon-home\", \"home\"], [\"Back\", \"Back to  previous view\", \"fa fa-arrow-left icon-arrow-left\", \"back\"], [\"Forward\", \"Forward to next view\", \"fa fa-arrow-right icon-arrow-right\", \"forward\"], [\"\", \"\", \"\", \"\"], [\"Pan\", \"Pan axes with left mouse, zoom with right\", \"fa fa-arrows icon-move\", \"pan\"], [\"Zoom\", \"Zoom to rectangle\", \"fa fa-square-o icon-check-empty\", \"zoom\"], [\"\", \"\", \"\", \"\"], [\"Download\", \"Download plot\", \"fa fa-floppy-o icon-save\", \"download\"]];\n",
       "\n",
       "mpl.extensions = [\"eps\", \"pdf\", \"png\", \"ps\", \"raw\", \"svg\"];\n",
       "\n",
       "mpl.default_extension = \"png\";var comm_websocket_adapter = function(comm) {\n",
       "    // Create a \"websocket\"-like object which calls the given IPython comm\n",
       "    // object with the appropriate methods. Currently this is a non binary\n",
       "    // socket, so there is still some room for performance tuning.\n",
       "    var ws = {};\n",
       "\n",
       "    ws.close = function() {\n",
       "        comm.close()\n",
       "    };\n",
       "    ws.send = function(m) {\n",
       "        //console.log('sending', m);\n",
       "        comm.send(m);\n",
       "    };\n",
       "    // Register the callback with on_msg.\n",
       "    comm.on_msg(function(msg) {\n",
       "        //console.log('receiving', msg['content']['data'], msg);\n",
       "        // Pass the mpl event to the overriden (by mpl) onmessage function.\n",
       "        ws.onmessage(msg['content']['data'])\n",
       "    });\n",
       "    return ws;\n",
       "}\n",
       "\n",
       "mpl.mpl_figure_comm = function(comm, msg) {\n",
       "    // This is the function which gets called when the mpl process\n",
       "    // starts-up an IPython Comm through the \"matplotlib\" channel.\n",
       "\n",
       "    var id = msg.content.data.id;\n",
       "    // Get hold of the div created by the display call when the Comm\n",
       "    // socket was opened in Python.\n",
       "    var element = $(\"#\" + id);\n",
       "    var ws_proxy = comm_websocket_adapter(comm)\n",
       "\n",
       "    function ondownload(figure, format) {\n",
       "        window.open(figure.imageObj.src);\n",
       "    }\n",
       "\n",
       "    var fig = new mpl.figure(id, ws_proxy,\n",
       "                           ondownload,\n",
       "                           element.get(0));\n",
       "\n",
       "    // Call onopen now - mpl needs it, as it is assuming we've passed it a real\n",
       "    // web socket which is closed, not our websocket->open comm proxy.\n",
       "    ws_proxy.onopen();\n",
       "\n",
       "    fig.parent_element = element.get(0);\n",
       "    fig.cell_info = mpl.find_output_cell(\"<div id='\" + id + \"'></div>\");\n",
       "    if (!fig.cell_info) {\n",
       "        console.error(\"Failed to find cell for figure\", id, fig);\n",
       "        return;\n",
       "    }\n",
       "\n",
       "    var output_index = fig.cell_info[2]\n",
       "    var cell = fig.cell_info[0];\n",
       "\n",
       "};\n",
       "\n",
       "mpl.figure.prototype.handle_close = function(fig, msg) {\n",
       "    fig.root.unbind('remove')\n",
       "\n",
       "    // Update the output cell to use the data from the current canvas.\n",
       "    fig.push_to_output();\n",
       "    var dataURL = fig.canvas.toDataURL();\n",
       "    // Re-enable the keyboard manager in IPython - without this line, in FF,\n",
       "    // the notebook keyboard shortcuts fail.\n",
       "    IPython.keyboard_manager.enable()\n",
       "    $(fig.parent_element).html('<img src=\"' + dataURL + '\">');\n",
       "    fig.close_ws(fig, msg);\n",
       "}\n",
       "\n",
       "mpl.figure.prototype.close_ws = function(fig, msg){\n",
       "    fig.send_message('closing', msg);\n",
       "    // fig.ws.close()\n",
       "}\n",
       "\n",
       "mpl.figure.prototype.push_to_output = function(remove_interactive) {\n",
       "    // Turn the data on the canvas into data in the output cell.\n",
       "    var dataURL = this.canvas.toDataURL();\n",
       "    this.cell_info[1]['text/html'] = '<img src=\"' + dataURL + '\">';\n",
       "}\n",
       "\n",
       "mpl.figure.prototype.updated_canvas_event = function() {\n",
       "    // Tell IPython that the notebook contents must change.\n",
       "    IPython.notebook.set_dirty(true);\n",
       "    this.send_message(\"ack\", {});\n",
       "    var fig = this;\n",
       "    // Wait a second, then push the new image to the DOM so\n",
       "    // that it is saved nicely (might be nice to debounce this).\n",
       "    setTimeout(function () { fig.push_to_output() }, 1000);\n",
       "}\n",
       "\n",
       "mpl.figure.prototype._init_toolbar = function() {\n",
       "    var fig = this;\n",
       "\n",
       "    var nav_element = $('<div/>')\n",
       "    nav_element.attr('style', 'width: 100%');\n",
       "    this.root.append(nav_element);\n",
       "\n",
       "    // Define a callback function for later on.\n",
       "    function toolbar_event(event) {\n",
       "        return fig.toolbar_button_onclick(event['data']);\n",
       "    }\n",
       "    function toolbar_mouse_event(event) {\n",
       "        return fig.toolbar_button_onmouseover(event['data']);\n",
       "    }\n",
       "\n",
       "    for(var toolbar_ind in mpl.toolbar_items){\n",
       "        var name = mpl.toolbar_items[toolbar_ind][0];\n",
       "        var tooltip = mpl.toolbar_items[toolbar_ind][1];\n",
       "        var image = mpl.toolbar_items[toolbar_ind][2];\n",
       "        var method_name = mpl.toolbar_items[toolbar_ind][3];\n",
       "\n",
       "        if (!name) { continue; };\n",
       "\n",
       "        var button = $('<button class=\"btn btn-default\" href=\"#\" title=\"' + name + '\"><i class=\"fa ' + image + ' fa-lg\"></i></button>');\n",
       "        button.click(method_name, toolbar_event);\n",
       "        button.mouseover(tooltip, toolbar_mouse_event);\n",
       "        nav_element.append(button);\n",
       "    }\n",
       "\n",
       "    // Add the status bar.\n",
       "    var status_bar = $('<span class=\"mpl-message\" style=\"text-align:right; float: right;\"/>');\n",
       "    nav_element.append(status_bar);\n",
       "    this.message = status_bar[0];\n",
       "\n",
       "    // Add the close button to the window.\n",
       "    var buttongrp = $('<div class=\"btn-group inline pull-right\"></div>');\n",
       "    var button = $('<button class=\"btn btn-mini btn-primary\" href=\"#\" title=\"Stop Interaction\"><i class=\"fa fa-power-off icon-remove icon-large\"></i></button>');\n",
       "    button.click(function (evt) { fig.handle_close(fig, {}); } );\n",
       "    button.mouseover('Stop Interaction', toolbar_mouse_event);\n",
       "    buttongrp.append(button);\n",
       "    var titlebar = this.root.find($('.ui-dialog-titlebar'));\n",
       "    titlebar.prepend(buttongrp);\n",
       "}\n",
       "\n",
       "mpl.figure.prototype._root_extra_style = function(el){\n",
       "    var fig = this\n",
       "    el.on(\"remove\", function(){\n",
       "\tfig.close_ws(fig, {});\n",
       "    });\n",
       "}\n",
       "\n",
       "mpl.figure.prototype._canvas_extra_style = function(el){\n",
       "    // this is important to make the div 'focusable\n",
       "    el.attr('tabindex', 0)\n",
       "    // reach out to IPython and tell the keyboard manager to turn it's self\n",
       "    // off when our div gets focus\n",
       "\n",
       "    // location in version 3\n",
       "    if (IPython.notebook.keyboard_manager) {\n",
       "        IPython.notebook.keyboard_manager.register_events(el);\n",
       "    }\n",
       "    else {\n",
       "        // location in version 2\n",
       "        IPython.keyboard_manager.register_events(el);\n",
       "    }\n",
       "\n",
       "}\n",
       "\n",
       "mpl.figure.prototype._key_event_extra = function(event, name) {\n",
       "    var manager = IPython.notebook.keyboard_manager;\n",
       "    if (!manager)\n",
       "        manager = IPython.keyboard_manager;\n",
       "\n",
       "    // Check for shift+enter\n",
       "    if (event.shiftKey && event.which == 13) {\n",
       "        this.canvas_div.blur();\n",
       "        // select the cell after this one\n",
       "        var index = IPython.notebook.find_cell_index(this.cell_info[0]);\n",
       "        IPython.notebook.select(index + 1);\n",
       "    }\n",
       "}\n",
       "\n",
       "mpl.figure.prototype.handle_save = function(fig, msg) {\n",
       "    fig.ondownload(fig, null);\n",
       "}\n",
       "\n",
       "\n",
       "mpl.find_output_cell = function(html_output) {\n",
       "    // Return the cell and output element which can be found *uniquely* in the notebook.\n",
       "    // Note - this is a bit hacky, but it is done because the \"notebook_saving.Notebook\"\n",
       "    // IPython event is triggered only after the cells have been serialised, which for\n",
       "    // our purposes (turning an active figure into a static one), is too late.\n",
       "    var cells = IPython.notebook.get_cells();\n",
       "    var ncells = cells.length;\n",
       "    for (var i=0; i<ncells; i++) {\n",
       "        var cell = cells[i];\n",
       "        if (cell.cell_type === 'code'){\n",
       "            for (var j=0; j<cell.output_area.outputs.length; j++) {\n",
       "                var data = cell.output_area.outputs[j];\n",
       "                if (data.data) {\n",
       "                    // IPython >= 3 moved mimebundle to data attribute of output\n",
       "                    data = data.data;\n",
       "                }\n",
       "                if (data['text/html'] == html_output) {\n",
       "                    return [cell, data, j];\n",
       "                }\n",
       "            }\n",
       "        }\n",
       "    }\n",
       "}\n",
       "\n",
       "// Register the function which deals with the matplotlib target/channel.\n",
       "// The kernel may be null if the page has been refreshed.\n",
       "if (IPython.notebook.kernel != null) {\n",
       "    IPython.notebook.kernel.comm_manager.register_target('matplotlib', mpl.mpl_figure_comm);\n",
       "}\n"
      ],
      "text/plain": [
       "<IPython.core.display.Javascript object>"
      ]
     },
     "metadata": {},
     "output_type": "display_data"
    },
    {
     "data": {
      "text/html": [
       "<img src=\"data:image/png;base64,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\">"
      ],
      "text/plain": [
       "<IPython.core.display.HTML object>"
      ]
     },
     "metadata": {},
     "output_type": "display_data"
    },
    {
     "data": {
      "text/plain": [
       "[<matplotlib.lines.Line2D at 0x7efe5dc110f0>]"
      ]
     },
     "execution_count": 47,
     "metadata": {},
     "output_type": "execute_result"
    }
   ],
   "source": [
    "plt.plot(vs)"
   ]
  },
  {
   "cell_type": "code",
   "execution_count": 48,
   "metadata": {
    "collapsed": false
   },
   "outputs": [
    {
     "ename": "SyntaxError",
     "evalue": "invalid syntax (<ipython-input-48-7f0e4804a921>, line 1)",
     "output_type": "error",
     "traceback": [
      "\u001b[0;36m  File \u001b[0;32m\"<ipython-input-48-7f0e4804a921>\"\u001b[0;36m, line \u001b[0;32m1\u001b[0m\n\u001b[0;31m    import\u001b[0m\n\u001b[0m           ^\u001b[0m\n\u001b[0;31mSyntaxError\u001b[0m\u001b[0;31m:\u001b[0m invalid syntax\n"
     ]
    }
   ],
   "source": [
    "import "
   ]
  },
  {
   "cell_type": "code",
   "execution_count": 67,
   "metadata": {
    "collapsed": true
   },
   "outputs": [],
   "source": [
    "Q0 = np.infty"
   ]
  },
  {
   "cell_type": "code",
   "execution_count": 68,
   "metadata": {
    "collapsed": false
   },
   "outputs": [
    {
     "data": {
      "text/plain": [
       "inf"
      ]
     },
     "execution_count": 68,
     "metadata": {},
     "output_type": "execute_result"
    }
   ],
   "source": [
    "Q0"
   ]
  },
  {
   "cell_type": "code",
   "execution_count": 69,
   "metadata": {
    "collapsed": false
   },
   "outputs": [],
   "source": [
    "Qc = 10\n",
    "Vdsmin = 10\n",
    "Vdd = 100\n",
    "Vcc = 0\n",
    "Ids = 2/3 * vs"
   ]
  },
  {
   "cell_type": "code",
   "execution_count": 70,
   "metadata": {
    "collapsed": false
   },
   "outputs": [],
   "source": [
    "Ids = np.array([i if i>0 else 0 for i in Ids])"
   ]
  },
  {
   "cell_type": "code",
   "execution_count": 53,
   "metadata": {
    "collapsed": false
   },
   "outputs": [
    {
     "data": {
      "text/plain": [
       "[<matplotlib.lines.Line2D at 0x7efe5dc9c2b0>]"
      ]
     },
     "execution_count": 53,
     "metadata": {},
     "output_type": "execute_result"
    }
   ],
   "source": [
    "plt.plot(Ids)"
   ]
  },
  {
   "cell_type": "code",
   "execution_count": 72,
   "metadata": {
    "collapsed": false
   },
   "outputs": [
    {
     "data": {
      "text/plain": [
       "10.0"
      ]
     },
     "execution_count": 72,
     "metadata": {},
     "output_type": "execute_result"
    }
   ],
   "source": [
    "Ids.max()"
   ]
  },
  {
   "cell_type": "code",
   "execution_count": 71,
   "metadata": {
    "collapsed": false
   },
   "outputs": [],
   "source": [
    "file = open(\"salida.txt\",'w')\n",
    "#fileq = open(\"salidaq.dat\",'w')\n",
    "for j,i in enumerate(Ids):\n",
    "    file.write(str(j/Fs)+ \" \"+str(i)+\"\\n\")\n",
    " #   fileq.write(str(j/Fs)+ \" ; \"+str(i)+\"\\n\")\n",
    "    #print(str(j/Fs)+ \" \"+str(i))\n",
    "file.close()\n",
    "#fileq.close()"
   ]
  },
  {
   "cell_type": "code",
   "execution_count": 36,
   "metadata": {
    "collapsed": true
   },
   "outputs": [],
   "source": [
    "\n",
    "Id2 = 20/3/np.pi"
   ]
  },
  {
   "cell_type": "code",
   "execution_count": 42,
   "metadata": {
    "collapsed": false
   },
   "outputs": [
    {
     "data": {
      "text/plain": [
       "42.4115008234622"
      ]
     },
     "execution_count": 42,
     "metadata": {},
     "output_type": "execute_result"
    }
   ],
   "source": [
    "Rc = (Vdd-Vdsmin)/Id2\n",
    "Rc"
   ]
  },
  {
   "cell_type": "code",
   "execution_count": 38,
   "metadata": {
    "collapsed": false
   },
   "outputs": [
    {
     "data": {
      "text/plain": [
       "3.3749999999999995e-07"
      ]
     },
     "execution_count": 38,
     "metadata": {},
     "output_type": "execute_result"
    }
   ],
   "source": [
    "L = Rc/(2*np.pi*2*Fp*Qc)\n",
    "L"
   ]
  },
  {
   "cell_type": "code",
   "execution_count": 41,
   "metadata": {
    "collapsed": false
   },
   "outputs": [
    {
     "data": {
      "text/plain": [
       "1.8763182155988485e-08"
      ]
     },
     "execution_count": 41,
     "metadata": {},
     "output_type": "execute_result"
    }
   ],
   "source": [
    "C = Qc/(Rc*2*np.pi*Fp*2)\n",
    "C"
   ]
  },
  {
   "cell_type": "code",
   "execution_count": 40,
   "metadata": {
    "collapsed": false
   },
   "outputs": [
    {
     "data": {
      "text/plain": [
       "2.1220783394257166"
      ]
     },
     "execution_count": 40,
     "metadata": {},
     "output_type": "execute_result"
    }
   ],
   "source": [
    "(Ids.cumsum()/Ids.shape)[-1]"
   ]
  },
  {
   "cell_type": "code",
   "execution_count": 45,
   "metadata": {
    "collapsed": false
   },
   "outputs": [
    {
     "data": {
      "text/plain": [
       "array([  1.00000000e+01,   1.99950656e+01,   2.99753328e+01, ...,\n",
       "        -9.99506559e+00,  -9.15152398e-10,   1.00000000e+01])"
      ]
     },
     "execution_count": 45,
     "metadata": {},
     "output_type": "execute_result"
    }
   ],
   "source": [
    "open(\"\")"
   ]
  },
  {
   "cell_type": "markdown",
   "metadata": {},
   "source": [
    "# Condición de portadora:"
   ]
  },
  {
   "cell_type": "code",
   "execution_count": 46,
   "metadata": {
    "collapsed": true
   },
   "outputs": [],
   "source": [
    "Id2_port = 40/9/np.pi"
   ]
  },
  {
   "cell_type": "code",
   "execution_count": 47,
   "metadata": {
    "collapsed": false
   },
   "outputs": [
    {
     "data": {
      "text/plain": [
       "1.4147106052612919"
      ]
     },
     "execution_count": 47,
     "metadata": {},
     "output_type": "execute_result"
    }
   ],
   "source": [
    "Id2_port"
   ]
  },
  {
   "cell_type": "code",
   "execution_count": 48,
   "metadata": {
    "collapsed": true
   },
   "outputs": [],
   "source": [
    "Vd2_port = Id2_port*Rc\n",
    "Pc = Vd2_port**2/2/Rc"
   ]
  },
  {
   "cell_type": "code",
   "execution_count": 49,
   "metadata": {
    "collapsed": false
   },
   "outputs": [
    {
     "data": {
      "text/plain": [
       "42.441318157838744"
      ]
     },
     "execution_count": 49,
     "metadata": {},
     "output_type": "execute_result"
    }
   ],
   "source": [
    "Pc"
   ]
  },
  {
   "cell_type": "code",
   "execution_count": 50,
   "metadata": {
    "collapsed": false
   },
   "outputs": [
    {
     "data": {
      "text/plain": [
       "59.999999999999986"
      ]
     },
     "execution_count": 50,
     "metadata": {},
     "output_type": "execute_result"
    }
   ],
   "source": [
    "Vd2_port"
   ]
  },
  {
   "cell_type": "markdown",
   "metadata": {},
   "source": [
    "# PEP\n",
    "Potencia que disiparía si la señal de salida estaría al máximo siempre"
   ]
  },
  {
   "cell_type": "code",
   "execution_count": 51,
   "metadata": {
    "collapsed": true
   },
   "outputs": [],
   "source": [
    "PEP = (Vdd-Vdsmin)**2/Rc"
   ]
  },
  {
   "cell_type": "code",
   "execution_count": 52,
   "metadata": {
    "collapsed": false
   },
   "outputs": [
    {
     "data": {
      "text/plain": [
       "190.98593171027446"
      ]
     },
     "execution_count": 52,
     "metadata": {},
     "output_type": "execute_result"
    }
   ],
   "source": [
    "PEP"
   ]
  },
  {
   "cell_type": "code",
   "execution_count": 61,
   "metadata": {
    "collapsed": true
   },
   "outputs": [],
   "source": [
    "Id1 = 10/3 #Ipico sobre 2"
   ]
  },
  {
   "cell_type": "code",
   "execution_count": 62,
   "metadata": {
    "collapsed": true
   },
   "outputs": [],
   "source": [
    "Vd1 = Id1*Rc*1/np.sqrt(1+Qc**2*(3/2)**2)"
   ]
  },
  {
   "cell_type": "code",
   "execution_count": 63,
   "metadata": {
    "collapsed": false
   },
   "outputs": [
    {
     "data": {
      "text/plain": [
       "9.4039035653497631"
      ]
     },
     "execution_count": 63,
     "metadata": {},
     "output_type": "execute_result"
    }
   ],
   "source": [
    "Vd1"
   ]
  },
  {
   "cell_type": "code",
   "execution_count": 64,
   "metadata": {
    "collapsed": true
   },
   "outputs": [],
   "source": [
    "P1 = Vd1**2/2/Rc"
   ]
  },
  {
   "cell_type": "markdown",
   "metadata": {},
   "source": [
    "Potencia en la frecuencia de portadora de la señal modulante:"
   ]
  },
  {
   "cell_type": "code",
   "execution_count": 65,
   "metadata": {
    "collapsed": false
   },
   "outputs": [
    {
     "data": {
      "text/plain": [
       "1.0425639337134269"
      ]
     },
     "execution_count": 65,
     "metadata": {},
     "output_type": "execute_result"
    }
   ],
   "source": [
    "P1"
   ]
  },
  {
   "cell_type": "markdown",
   "metadata": {},
   "source": [
    "Potencia en continua: depende de la modulación, pero suponemos, como todo es lineal y es clase B que la potencia disipada en el dispositivo es:"
   ]
  },
  {
   "cell_type": "code",
   "execution_count": 66,
   "metadata": {
    "collapsed": true
   },
   "outputs": [],
   "source": [
    "Id0 = 20/3/np.pi"
   ]
  },
  {
   "cell_type": "code",
   "execution_count": 67,
   "metadata": {
    "collapsed": false
   },
   "outputs": [
    {
     "data": {
      "text/plain": [
       "212.20659078919383"
      ]
     },
     "execution_count": 67,
     "metadata": {},
     "output_type": "execute_result"
    }
   ],
   "source": [
    "Pcc = Vdd * Id0\n",
    "Pcc"
   ]
  },
  {
   "cell_type": "code",
   "execution_count": 69,
   "metadata": {
    "collapsed": false
   },
   "outputs": [
    {
     "ename": "NameError",
     "evalue": "name 'Ps' is not defined",
     "output_type": "error",
     "traceback": [
      "\u001b[0;31m---------------------------------------------------------------------------\u001b[0m",
      "\u001b[0;31mNameError\u001b[0m                                 Traceback (most recent call last)",
      "\u001b[0;32m<ipython-input-69-485c74a60587>\u001b[0m in \u001b[0;36m<module>\u001b[0;34m()\u001b[0m\n\u001b[0;32m----> 1\u001b[0;31m \u001b[0mPdisip\u001b[0m \u001b[0;34m=\u001b[0m \u001b[0mPcc\u001b[0m\u001b[0;34m-\u001b[0m\u001b[0mPs\u001b[0m\u001b[0;34m\u001b[0m\u001b[0m\n\u001b[0m",
      "\u001b[0;31mNameError\u001b[0m: name 'Ps' is not defined"
     ]
    }
   ],
   "source": [
    "Pdisip = Pcc-Ps"
   ]
  },
  {
   "cell_type": "markdown",
   "metadata": {},
   "source": [
    "Si ahora se cambia Qc = 100 y las frecuencias modulantes a 10K y 15K-> calcular el ma"
   ]
  },
  {
   "cell_type": "code",
   "execution_count": null,
   "metadata": {
    "collapsed": true
   },
   "outputs": [],
   "source": [
    "At1970 = 1/"
   ]
  }
 ],
 "metadata": {
  "kernelspec": {
   "display_name": "Python 3",
   "language": "python",
   "name": "python3"
  },
  "language_info": {
   "codemirror_mode": {
    "name": "ipython",
    "version": 3
   },
   "file_extension": ".py",
   "mimetype": "text/x-python",
   "name": "python",
   "nbconvert_exporter": "python",
   "pygments_lexer": "ipython3",
   "version": "3.4.2"
  }
 },
 "nbformat": 4,
 "nbformat_minor": 1
}
